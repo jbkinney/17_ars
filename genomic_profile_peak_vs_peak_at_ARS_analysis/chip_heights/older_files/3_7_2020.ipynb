{
 "cells": [
  {
   "cell_type": "code",
   "execution_count": 1,
   "metadata": {
    "collapsed": true
   },
   "outputs": [],
   "source": [
    "import numpy as np\n",
    "import pandas as pd\n",
    "import matplotlib.pyplot as plt\n"
   ]
  },
  {
   "cell_type": "code",
   "execution_count": 2,
   "metadata": {},
   "outputs": [
    {
     "data": {
      "text/html": [
       "<div>\n",
       "<style scoped>\n",
       "    .dataframe tbody tr th:only-of-type {\n",
       "        vertical-align: middle;\n",
       "    }\n",
       "\n",
       "    .dataframe tbody tr th {\n",
       "        vertical-align: top;\n",
       "    }\n",
       "\n",
       "    .dataframe thead th {\n",
       "        text-align: right;\n",
       "    }\n",
       "</style>\n",
       "<table border=\"1\" class=\"dataframe\">\n",
       "  <thead>\n",
       "    <tr style=\"text-align: right;\">\n",
       "      <th></th>\n",
       "      <th>chromosome</th>\n",
       "      <th>name</th>\n",
       "      <th>position</th>\n",
       "      <th>sequence</th>\n",
       "      <th>strand</th>\n",
       "      <th>Orc4 WT</th>\n",
       "      <th>F485A,Y486A</th>\n",
       "      <th>F485Y,Y486F</th>\n",
       "      <th>N489A</th>\n",
       "      <th>Y486Q</th>\n",
       "      <th>...</th>\n",
       "      <th>R478K</th>\n",
       "      <th>N489W</th>\n",
       "      <th>WT_Score</th>\n",
       "      <th>Y486Q_Score</th>\n",
       "      <th>F485I_Score</th>\n",
       "      <th>N489A_Score</th>\n",
       "      <th>R478A_Score</th>\n",
       "      <th>F485A_Y486A_Score</th>\n",
       "      <th>F485I_Y486Q_Score</th>\n",
       "      <th>F485Y_Y486F_Score</th>\n",
       "    </tr>\n",
       "  </thead>\n",
       "  <tbody>\n",
       "    <tr>\n",
       "      <th>0</th>\n",
       "      <td>chr1</td>\n",
       "      <td>ARS104.0</td>\n",
       "      <td>31002</td>\n",
       "      <td>ATTTTTAAGTTTTGT</td>\n",
       "      <td>+</td>\n",
       "      <td>0.003413</td>\n",
       "      <td>0.002510</td>\n",
       "      <td>0.003429</td>\n",
       "      <td>0.006902</td>\n",
       "      <td>0.002925</td>\n",
       "      <td>...</td>\n",
       "      <td>0.001882</td>\n",
       "      <td>0.017493</td>\n",
       "      <td>34.370372</td>\n",
       "      <td>51.645805</td>\n",
       "      <td>56.658085</td>\n",
       "      <td>73.061826</td>\n",
       "      <td>72.320658</td>\n",
       "      <td>56.206879</td>\n",
       "      <td>66.301391</td>\n",
       "      <td>37.956483</td>\n",
       "    </tr>\n",
       "    <tr>\n",
       "      <th>1</th>\n",
       "      <td>chr1</td>\n",
       "      <td>ARS106.0</td>\n",
       "      <td>70433</td>\n",
       "      <td>TTTTTTATGTTTAGA</td>\n",
       "      <td>-</td>\n",
       "      <td>0.009110</td>\n",
       "      <td>0.004669</td>\n",
       "      <td>0.007191</td>\n",
       "      <td>0.015777</td>\n",
       "      <td>0.008825</td>\n",
       "      <td>...</td>\n",
       "      <td>0.016224</td>\n",
       "      <td>0.059114</td>\n",
       "      <td>36.436992</td>\n",
       "      <td>51.885729</td>\n",
       "      <td>56.380679</td>\n",
       "      <td>77.187863</td>\n",
       "      <td>69.864997</td>\n",
       "      <td>53.129439</td>\n",
       "      <td>69.231213</td>\n",
       "      <td>39.539934</td>\n",
       "    </tr>\n",
       "    <tr>\n",
       "      <th>2</th>\n",
       "      <td>chr1</td>\n",
       "      <td>ARS107.0</td>\n",
       "      <td>124522</td>\n",
       "      <td>ATATTTAAGTCTTGA</td>\n",
       "      <td>-</td>\n",
       "      <td>0.019213</td>\n",
       "      <td>0.029398</td>\n",
       "      <td>0.017015</td>\n",
       "      <td>0.046811</td>\n",
       "      <td>0.022460</td>\n",
       "      <td>...</td>\n",
       "      <td>0.019137</td>\n",
       "      <td>0.158051</td>\n",
       "      <td>28.491761</td>\n",
       "      <td>41.864254</td>\n",
       "      <td>41.955166</td>\n",
       "      <td>54.638782</td>\n",
       "      <td>53.731351</td>\n",
       "      <td>44.530122</td>\n",
       "      <td>54.119721</td>\n",
       "      <td>30.669524</td>\n",
       "    </tr>\n",
       "    <tr>\n",
       "      <th>3</th>\n",
       "      <td>chr1</td>\n",
       "      <td>ARS109.0</td>\n",
       "      <td>159951</td>\n",
       "      <td>TTATTTATATTTAGT</td>\n",
       "      <td>+</td>\n",
       "      <td>0.108084</td>\n",
       "      <td>0.007605</td>\n",
       "      <td>0.094314</td>\n",
       "      <td>0.015356</td>\n",
       "      <td>0.027916</td>\n",
       "      <td>...</td>\n",
       "      <td>0.046131</td>\n",
       "      <td>0.064120</td>\n",
       "      <td>35.518618</td>\n",
       "      <td>51.000326</td>\n",
       "      <td>59.396464</td>\n",
       "      <td>78.906114</td>\n",
       "      <td>69.746828</td>\n",
       "      <td>53.350595</td>\n",
       "      <td>69.631498</td>\n",
       "      <td>39.298312</td>\n",
       "    </tr>\n",
       "    <tr>\n",
       "      <th>4</th>\n",
       "      <td>chr1</td>\n",
       "      <td>ARS110.0</td>\n",
       "      <td>176232</td>\n",
       "      <td>CTTTTTATGTTTTCT</td>\n",
       "      <td>+</td>\n",
       "      <td>0.175983</td>\n",
       "      <td>0.045903</td>\n",
       "      <td>0.136024</td>\n",
       "      <td>0.007306</td>\n",
       "      <td>0.102775</td>\n",
       "      <td>...</td>\n",
       "      <td>0.009325</td>\n",
       "      <td>0.020461</td>\n",
       "      <td>32.126723</td>\n",
       "      <td>53.120336</td>\n",
       "      <td>52.628486</td>\n",
       "      <td>63.106770</td>\n",
       "      <td>60.962093</td>\n",
       "      <td>60.139333</td>\n",
       "      <td>67.458532</td>\n",
       "      <td>35.443716</td>\n",
       "    </tr>\n",
       "  </tbody>\n",
       "</table>\n",
       "<p>5 rows × 23 columns</p>\n",
       "</div>"
      ],
      "text/plain": [
       "  chromosome      name  position         sequence strand   Orc4 WT  \\\n",
       "0       chr1  ARS104.0     31002  ATTTTTAAGTTTTGT      +  0.003413   \n",
       "1       chr1  ARS106.0     70433  TTTTTTATGTTTAGA      -  0.009110   \n",
       "2       chr1  ARS107.0    124522  ATATTTAAGTCTTGA      -  0.019213   \n",
       "3       chr1  ARS109.0    159951  TTATTTATATTTAGT      +  0.108084   \n",
       "4       chr1  ARS110.0    176232  CTTTTTATGTTTTCT      +  0.175983   \n",
       "\n",
       "   F485A,Y486A  F485Y,Y486F     N489A     Y486Q  ...     R478K     N489W  \\\n",
       "0     0.002510     0.003429  0.006902  0.002925  ...  0.001882  0.017493   \n",
       "1     0.004669     0.007191  0.015777  0.008825  ...  0.016224  0.059114   \n",
       "2     0.029398     0.017015  0.046811  0.022460  ...  0.019137  0.158051   \n",
       "3     0.007605     0.094314  0.015356  0.027916  ...  0.046131  0.064120   \n",
       "4     0.045903     0.136024  0.007306  0.102775  ...  0.009325  0.020461   \n",
       "\n",
       "    WT_Score  Y486Q_Score  F485I_Score  N489A_Score  R478A_Score  \\\n",
       "0  34.370372    51.645805    56.658085    73.061826    72.320658   \n",
       "1  36.436992    51.885729    56.380679    77.187863    69.864997   \n",
       "2  28.491761    41.864254    41.955166    54.638782    53.731351   \n",
       "3  35.518618    51.000326    59.396464    78.906114    69.746828   \n",
       "4  32.126723    53.120336    52.628486    63.106770    60.962093   \n",
       "\n",
       "   F485A_Y486A_Score  F485I_Y486Q_Score  F485Y_Y486F_Score  \n",
       "0          56.206879          66.301391          37.956483  \n",
       "1          53.129439          69.231213          39.539934  \n",
       "2          44.530122          54.119721          30.669524  \n",
       "3          53.350595          69.631498          39.298312  \n",
       "4          60.139333          67.458532          35.443716  \n",
       "\n",
       "[5 rows x 23 columns]"
      ]
     },
     "execution_count": 2,
     "metadata": {},
     "output_type": "execute_result"
    }
   ],
   "source": [
    "heights_scores_df = pd.read_excel('heights_scores.xlsx')\n",
    "heights_scores_df.head()"
   ]
  },
  {
   "cell_type": "code",
   "execution_count": 22,
   "metadata": {},
   "outputs": [
    {
     "data": {
      "image/png": "[encoded data removed]",
      "text/plain": [
       "<Figure size 432x288 with 1 Axes>"
      ]
     },
     "metadata": {},
     "output_type": "display_data"
    }
   ],
   "source": [
    "plt.scatter(heights_scores_df['Orc4 WT'],heights_scores_df['F485A,Y486A'],color='red',s=30,alpha=0.5)\n",
    "# plt.xlim(0,0.25)\n",
    "# plt.ylim(0,0.1)\n",
    "plt.show()"
   ]
  },
  {
   "cell_type": "code",
   "execution_count": 4,
   "metadata": {
    "collapsed": true
   },
   "outputs": [],
   "source": [
    "df = heights_scores_df[['Orc4 WT','F485A,Y486A','sequence','WT_Score','F485A_Y486A_Score']].copy()"
   ]
  },
  {
   "cell_type": "code",
   "execution_count": 35,
   "metadata": {
    "collapsed": true
   },
   "outputs": [],
   "source": [
    "df_no_outliers = df.loc[(df['F485A,Y486A'] < 0.5) & (df['Orc4 WT'] < 0.5)]"
   ]
  },
  {
   "cell_type": "code",
   "execution_count": 37,
   "metadata": {},
   "outputs": [
    {
     "data": {
      "text/plain": [
       "<matplotlib.collections.PathCollection at 0x11d2dd438>"
      ]
     },
     "execution_count": 37,
     "metadata": {},
     "output_type": "execute_result"
    },
    {
     "data": {
      "image/png": "[encoded data removed]",
      "text/plain": [
       "<Figure size 432x288 with 1 Axes>"
      ]
     },
     "metadata": {},
     "output_type": "display_data"
    }
   ],
   "source": [
    "plt.scatter(df_no_outliers['Orc4 WT'],df_no_outliers['F485A,Y486A'],color='red',s=30,alpha=0.5)"
   ]
  },
  {
   "cell_type": "code",
   "execution_count": 36,
   "metadata": {},
   "outputs": [
    {
     "data": {
      "text/html": [
       "<div>\n",
       "<style scoped>\n",
       "    .dataframe tbody tr th:only-of-type {\n",
       "        vertical-align: middle;\n",
       "    }\n",
       "\n",
       "    .dataframe tbody tr th {\n",
       "        vertical-align: top;\n",
       "    }\n",
       "\n",
       "    .dataframe thead th {\n",
       "        text-align: right;\n",
       "    }\n",
       "</style>\n",
       "<table border=\"1\" class=\"dataframe\">\n",
       "  <thead>\n",
       "    <tr style=\"text-align: right;\">\n",
       "      <th></th>\n",
       "      <th>Orc4 WT</th>\n",
       "      <th>F485A,Y486A</th>\n",
       "      <th>sequence</th>\n",
       "      <th>WT_Score</th>\n",
       "      <th>F485A_Y486A_Score</th>\n",
       "    </tr>\n",
       "  </thead>\n",
       "  <tbody>\n",
       "    <tr>\n",
       "      <th>0</th>\n",
       "      <td>0.003413</td>\n",
       "      <td>0.002510</td>\n",
       "      <td>ATTTTTAAGTTTTGT</td>\n",
       "      <td>34.370372</td>\n",
       "      <td>56.206879</td>\n",
       "    </tr>\n",
       "    <tr>\n",
       "      <th>1</th>\n",
       "      <td>0.009110</td>\n",
       "      <td>0.004669</td>\n",
       "      <td>TTTTTTATGTTTAGA</td>\n",
       "      <td>36.436992</td>\n",
       "      <td>53.129439</td>\n",
       "    </tr>\n",
       "    <tr>\n",
       "      <th>2</th>\n",
       "      <td>0.019213</td>\n",
       "      <td>0.029398</td>\n",
       "      <td>ATATTTAAGTCTTGA</td>\n",
       "      <td>28.491761</td>\n",
       "      <td>44.530122</td>\n",
       "    </tr>\n",
       "    <tr>\n",
       "      <th>3</th>\n",
       "      <td>0.108084</td>\n",
       "      <td>0.007605</td>\n",
       "      <td>TTATTTATATTTAGT</td>\n",
       "      <td>35.518618</td>\n",
       "      <td>53.350595</td>\n",
       "    </tr>\n",
       "    <tr>\n",
       "      <th>4</th>\n",
       "      <td>0.175983</td>\n",
       "      <td>0.045903</td>\n",
       "      <td>CTTTTTATGTTTTCT</td>\n",
       "      <td>32.126723</td>\n",
       "      <td>60.139333</td>\n",
       "    </tr>\n",
       "  </tbody>\n",
       "</table>\n",
       "</div>"
      ],
      "text/plain": [
       "    Orc4 WT  F485A,Y486A         sequence   WT_Score  F485A_Y486A_Score\n",
       "0  0.003413     0.002510  ATTTTTAAGTTTTGT  34.370372          56.206879\n",
       "1  0.009110     0.004669  TTTTTTATGTTTAGA  36.436992          53.129439\n",
       "2  0.019213     0.029398  ATATTTAAGTCTTGA  28.491761          44.530122\n",
       "3  0.108084     0.007605  TTATTTATATTTAGT  35.518618          53.350595\n",
       "4  0.175983     0.045903  CTTTTTATGTTTTCT  32.126723          60.139333"
      ]
     },
     "execution_count": 36,
     "metadata": {},
     "output_type": "execute_result"
    }
   ],
   "source": [
    "df_no_outliers.head()"
   ]
  },
  {
   "cell_type": "code",
   "execution_count": 5,
   "metadata": {},
   "outputs": [
    {
     "data": {
      "text/html": [
       "<div>\n",
       "<style scoped>\n",
       "    .dataframe tbody tr th:only-of-type {\n",
       "        vertical-align: middle;\n",
       "    }\n",
       "\n",
       "    .dataframe tbody tr th {\n",
       "        vertical-align: top;\n",
       "    }\n",
       "\n",
       "    .dataframe thead th {\n",
       "        text-align: right;\n",
       "    }\n",
       "</style>\n",
       "<table border=\"1\" class=\"dataframe\">\n",
       "  <thead>\n",
       "    <tr style=\"text-align: right;\">\n",
       "      <th></th>\n",
       "      <th>Orc4 WT</th>\n",
       "      <th>F485A,Y486A</th>\n",
       "      <th>sequence</th>\n",
       "      <th>WT_Score</th>\n",
       "      <th>F485A_Y486A_Score</th>\n",
       "    </tr>\n",
       "  </thead>\n",
       "  <tbody>\n",
       "    <tr>\n",
       "      <th>0</th>\n",
       "      <td>0.003413</td>\n",
       "      <td>0.002510</td>\n",
       "      <td>ATTTTTAAGTTTTGT</td>\n",
       "      <td>34.370372</td>\n",
       "      <td>56.206879</td>\n",
       "    </tr>\n",
       "    <tr>\n",
       "      <th>1</th>\n",
       "      <td>0.009110</td>\n",
       "      <td>0.004669</td>\n",
       "      <td>TTTTTTATGTTTAGA</td>\n",
       "      <td>36.436992</td>\n",
       "      <td>53.129439</td>\n",
       "    </tr>\n",
       "    <tr>\n",
       "      <th>2</th>\n",
       "      <td>0.019213</td>\n",
       "      <td>0.029398</td>\n",
       "      <td>ATATTTAAGTCTTGA</td>\n",
       "      <td>28.491761</td>\n",
       "      <td>44.530122</td>\n",
       "    </tr>\n",
       "    <tr>\n",
       "      <th>3</th>\n",
       "      <td>0.108084</td>\n",
       "      <td>0.007605</td>\n",
       "      <td>TTATTTATATTTAGT</td>\n",
       "      <td>35.518618</td>\n",
       "      <td>53.350595</td>\n",
       "    </tr>\n",
       "    <tr>\n",
       "      <th>4</th>\n",
       "      <td>0.175983</td>\n",
       "      <td>0.045903</td>\n",
       "      <td>CTTTTTATGTTTTCT</td>\n",
       "      <td>32.126723</td>\n",
       "      <td>60.139333</td>\n",
       "    </tr>\n",
       "  </tbody>\n",
       "</table>\n",
       "</div>"
      ],
      "text/plain": [
       "    Orc4 WT  F485A,Y486A         sequence   WT_Score  F485A_Y486A_Score\n",
       "0  0.003413     0.002510  ATTTTTAAGTTTTGT  34.370372          56.206879\n",
       "1  0.009110     0.004669  TTTTTTATGTTTAGA  36.436992          53.129439\n",
       "2  0.019213     0.029398  ATATTTAAGTCTTGA  28.491761          44.530122\n",
       "3  0.108084     0.007605  TTATTTATATTTAGT  35.518618          53.350595\n",
       "4  0.175983     0.045903  CTTTTTATGTTTTCT  32.126723          60.139333"
      ]
     },
     "execution_count": 5,
     "metadata": {},
     "output_type": "execute_result"
    }
   ],
   "source": [
    "df.head()"
   ]
  },
  {
   "cell_type": "code",
   "execution_count": 6,
   "metadata": {},
   "outputs": [
    {
     "data": {
      "text/plain": [
       "222"
      ]
     },
     "execution_count": 6,
     "metadata": {},
     "output_type": "execute_result"
    }
   ],
   "source": [
    "len(df)"
   ]
  },
  {
   "cell_type": "code",
   "execution_count": 7,
   "metadata": {
    "collapsed": true
   },
   "outputs": [],
   "source": [
    "low_heights = df.loc[(df['Orc4 WT']>0.05) & (df['F485A,Y486A'] < 0.02)]\n",
    "high_heights = df.loc[(df['Orc4 WT']>0.05) & (df['F485A,Y486A'] > 0.04)]"
   ]
  },
  {
   "cell_type": "code",
   "execution_count": 8,
   "metadata": {},
   "outputs": [
    {
     "data": {
      "image/png": "[encoded data removed]",
      "text/plain": [
       "<Figure size 432x288 with 1 Axes>"
      ]
     },
     "metadata": {
      "needs_background": "light"
     },
     "output_type": "display_data"
    }
   ],
   "source": [
    "plt.scatter(low_heights['Orc4 WT'],low_heights['F485A,Y486A'],color='red',s=30,label='low',marker='+')\n",
    "plt.scatter(high_heights['Orc4 WT'],high_heights['F485A,Y486A'],color='blue',s=30,label='high',marker='*')\n",
    "plt.scatter(heights_scores_df['Orc4 WT'],heights_scores_df['F485A,Y486A'],color='gray',s=30,alpha=0.25,label='all points')\n",
    "\n",
    "plt.xlabel('WT Heights')\n",
    "plt.ylabel('F485A,Y486A Heights')\n",
    "\n",
    "plt.xlim(0,0.25)\n",
    "plt.ylim(0,0.1)\n",
    "plt.title('Heights')\n",
    "leg = plt.legend()\n",
    "for lh in leg.legendHandles: \n",
    "    lh.set_alpha(1)\n",
    "plt.tight_layout()\n",
    "plt.savefig('selected_heights.pdf')\n",
    "plt.show()"
   ]
  },
  {
   "cell_type": "code",
   "execution_count": 9,
   "metadata": {},
   "outputs": [
    {
     "data": {
      "image/png": "[encoded data removed]",
      "text/plain": [
       "<Figure size 432x288 with 1 Axes>"
      ]
     },
     "metadata": {
      "needs_background": "light"
     },
     "output_type": "display_data"
    }
   ],
   "source": [
    "plt.scatter(low_heights['WT_Score'],low_heights['F485A_Y486A_Score'],color='red',s=30,label='low',marker='+')\n",
    "plt.scatter(high_heights['WT_Score'],high_heights['F485A_Y486A_Score'],color='blue',s=30,label='high',marker='*')\n",
    "plt.scatter(heights_scores_df['WT_Score'],heights_scores_df['F485A_Y486A_Score'],color='gray',s=30,alpha=0.25,label='all scores')\n",
    "plt.title('Scores')\n",
    "plt.xlabel('WT score')\n",
    "plt.ylabel('F485A,Y486A score')\n",
    "leg = plt.legend()\n",
    "for lh in leg.legendHandles: \n",
    "    lh.set_alpha(1)\n",
    "    \n",
    "plt.tight_layout()\n",
    "plt.savefig('selected_scores.pdf')    \n",
    "plt.show()"
   ]
  },
  {
   "cell_type": "code",
   "execution_count": 11,
   "metadata": {},
   "outputs": [
    {
     "ename": "ModuleNotFoundError",
     "evalue": "No module named 'pingouin'",
     "output_type": "error",
     "traceback": [
      "\u001b[0;31m---------------------------------------------------------------------------\u001b[0m",
      "\u001b[0;31mModuleNotFoundError\u001b[0m                       Traceback (most recent call last)",
      "\u001b[0;32m<ipython-input-11-c88baeb000f5>\u001b[0m in \u001b[0;36m<module>\u001b[0;34m\u001b[0m\n\u001b[0;32m----> 1\u001b[0;31m \u001b[0;32mimport\u001b[0m \u001b[0mpingouin\u001b[0m\u001b[0;34m\u001b[0m\u001b[0;34m\u001b[0m\u001b[0m\n\u001b[0m",
      "\u001b[0;31mModuleNotFoundError\u001b[0m: No module named 'pingouin'"
     ]
    }
   ],
   "source": [
    "import pingouin"
   ]
  },
  {
   "cell_type": "code",
   "execution_count": 17,
   "metadata": {},
   "outputs": [
    {
     "data": {
      "image/png": "[encoded data removed]",
      "text/plain": [
       "<Figure size 432x288 with 1 Axes>"
      ]
     },
     "metadata": {},
     "output_type": "display_data"
    }
   ],
   "source": [
    "scores_heights_correlation = np.corrcoef(np.log(heights_scores_df['F485A,Y486A'].values),heights_scores_df['F485A_Y486A_Score'].values)\n",
    "plt.scatter(np.log(heights_scores_df['F485A,Y486A']),heights_scores_df['F485A_Y486A_Score'],color='red',s=30,alpha=0.5)\n",
    "plt.xlabel('F485A,Y486A heights')\n",
    "plt.ylabel('F485A,Y486A scores')\n",
    "plt.title('Heights-Scores $R^2$: '+str(scores_heights_correlation[0][1]**2)[0:10])\n",
    "\n",
    "#plt.xlim(0,0.1)\n",
    "plt.tight_layout()\n",
    "plt.savefig('mutant_scores_vs_height.pdf')\n",
    "plt.show()"
   ]
  },
  {
   "cell_type": "code",
   "execution_count": 16,
   "metadata": {
    "collapsed": true
   },
   "outputs": [],
   "source": [
    "import pingouin as pg"
   ]
  },
  {
   "cell_type": "code",
   "execution_count": null,
   "metadata": {
    "collapsed": true
   },
   "outputs": [],
   "source": []
  },
  {
   "cell_type": "code",
   "execution_count": 38,
   "metadata": {
    "collapsed": true
   },
   "outputs": [],
   "source": [
    "#x = np.log(df_no_outliers['F485A,Y486A'])\n",
    "x = np.log(df_no_outliers['Orc4 WT'])\n",
    "\n",
    "\n",
    "\n",
    "#y = df_no_outliers['F485A_Y486A_Score']\n",
    "y = df_no_outliers['WT_Score']"
   ]
  },
  {
   "cell_type": "code",
   "execution_count": 27,
   "metadata": {},
   "outputs": [
    {
     "data": {
      "text/plain": [
       "<matplotlib.collections.PathCollection at 0x11d22fd68>"
      ]
     },
     "execution_count": 27,
     "metadata": {},
     "output_type": "execute_result"
    },
    {
     "data": {
      "image/png": "[encoded data removed]",
      "text/plain": [
       "<Figure size 432x288 with 1 Axes>"
      ]
     },
     "metadata": {},
     "output_type": "display_data"
    }
   ],
   "source": [
    "plt.scatter(x,y)"
   ]
  },
  {
   "cell_type": "code",
   "execution_count": 39,
   "metadata": {},
   "outputs": [
    {
     "data": {
      "text/plain": [
       "<matplotlib.collections.PathCollection at 0x11d4e2e80>"
      ]
     },
     "execution_count": 39,
     "metadata": {},
     "output_type": "execute_result"
    },
    {
     "data": {
      "image/png": "[encoded data removed]",
      "text/plain": [
       "<Figure size 432x288 with 1 Axes>"
      ]
     },
     "metadata": {},
     "output_type": "display_data"
    }
   ],
   "source": [
    "plt.scatter(x,y)"
   ]
  },
  {
   "cell_type": "code",
   "execution_count": 21,
   "metadata": {},
   "outputs": [
    {
     "data": {
      "text/plain": [
       "1.1911875550340623"
      ]
     },
     "execution_count": 21,
     "metadata": {},
     "output_type": "execute_result"
    }
   ],
   "source": [
    "max(x)"
   ]
  },
  {
   "cell_type": "code",
   "execution_count": 28,
   "metadata": {},
   "outputs": [
    {
     "data": {
      "text/html": [
       "<div>\n",
       "<style scoped>\n",
       "    .dataframe tbody tr th:only-of-type {\n",
       "        vertical-align: middle;\n",
       "    }\n",
       "\n",
       "    .dataframe tbody tr th {\n",
       "        vertical-align: top;\n",
       "    }\n",
       "\n",
       "    .dataframe thead th {\n",
       "        text-align: right;\n",
       "    }\n",
       "</style>\n",
       "<table border=\"1\" class=\"dataframe\">\n",
       "  <thead>\n",
       "    <tr style=\"text-align: right;\">\n",
       "      <th></th>\n",
       "      <th>n</th>\n",
       "      <th>r</th>\n",
       "      <th>CI95%</th>\n",
       "      <th>r2</th>\n",
       "      <th>adj_r2</th>\n",
       "      <th>p-val</th>\n",
       "      <th>BF10</th>\n",
       "      <th>power</th>\n",
       "    </tr>\n",
       "  </thead>\n",
       "  <tbody>\n",
       "    <tr>\n",
       "      <th>pearson</th>\n",
       "      <td>220</td>\n",
       "      <td>0.365</td>\n",
       "      <td>[0.24, 0.47]</td>\n",
       "      <td>0.133</td>\n",
       "      <td>0.125</td>\n",
       "      <td>2.484573e-08</td>\n",
       "      <td>4.249e+05</td>\n",
       "      <td>1.0</td>\n",
       "    </tr>\n",
       "  </tbody>\n",
       "</table>\n",
       "</div>"
      ],
      "text/plain": [
       "           n      r         CI95%     r2  adj_r2         p-val       BF10  \\\n",
       "pearson  220  0.365  [0.24, 0.47]  0.133   0.125  2.484573e-08  4.249e+05   \n",
       "\n",
       "         power  \n",
       "pearson    1.0  "
      ]
     },
     "execution_count": 28,
     "metadata": {},
     "output_type": "execute_result"
    }
   ],
   "source": [
    "pg.corr(x, y)\n"
   ]
  },
  {
   "cell_type": "code",
   "execution_count": 40,
   "metadata": {},
   "outputs": [
    {
     "data": {
      "text/html": [
       "<div>\n",
       "<style scoped>\n",
       "    .dataframe tbody tr th:only-of-type {\n",
       "        vertical-align: middle;\n",
       "    }\n",
       "\n",
       "    .dataframe tbody tr th {\n",
       "        vertical-align: top;\n",
       "    }\n",
       "\n",
       "    .dataframe thead th {\n",
       "        text-align: right;\n",
       "    }\n",
       "</style>\n",
       "<table border=\"1\" class=\"dataframe\">\n",
       "  <thead>\n",
       "    <tr style=\"text-align: right;\">\n",
       "      <th></th>\n",
       "      <th>n</th>\n",
       "      <th>r</th>\n",
       "      <th>CI95%</th>\n",
       "      <th>r2</th>\n",
       "      <th>adj_r2</th>\n",
       "      <th>p-val</th>\n",
       "      <th>BF10</th>\n",
       "      <th>power</th>\n",
       "    </tr>\n",
       "  </thead>\n",
       "  <tbody>\n",
       "    <tr>\n",
       "      <th>pearson</th>\n",
       "      <td>220</td>\n",
       "      <td>0.029</td>\n",
       "      <td>[-0.1, 0.16]</td>\n",
       "      <td>0.001</td>\n",
       "      <td>-0.008</td>\n",
       "      <td>0.668402</td>\n",
       "      <td>0.092</td>\n",
       "      <td>0.071</td>\n",
       "    </tr>\n",
       "  </tbody>\n",
       "</table>\n",
       "</div>"
      ],
      "text/plain": [
       "           n      r         CI95%     r2  adj_r2     p-val   BF10  power\n",
       "pearson  220  0.029  [-0.1, 0.16]  0.001  -0.008  0.668402  0.092  0.071"
      ]
     },
     "execution_count": 40,
     "metadata": {},
     "output_type": "execute_result"
    }
   ],
   "source": [
    "pg.corr(x, y)\n"
   ]
  },
  {
   "cell_type": "code",
   "execution_count": null,
   "metadata": {
    "collapsed": true
   },
   "outputs": [],
   "source": [
    "plt.scatter(heights_scores_df['Orc4 WT'],heights_scores_df['WT_Score'],color='red',s=30,alpha=0.5)\n",
    "plt.xlabel('Orc4 WT heights')\n",
    "plt.ylabel('WT scores')\n",
    "#plt.title('Heights-Scores $R^2$: '+str(scores_heights_correlation[0][1]**2)[0:10])\n",
    "plt.xlim(0,0.3)\n",
    "plt.tight_layout()\n",
    "plt.savefig('WT_score_vs_height.pdf')\n",
    "plt.show()"
   ]
  },
  {
   "cell_type": "code",
   "execution_count": null,
   "metadata": {
    "collapsed": true
   },
   "outputs": [],
   "source": [
    "from scipy import stats\n",
    "#print(stats.ks_2samp(heights_scores_df['Orc4 WT'].values, heights_scores_df['Orc4 WT'].values))\n",
    "#print(stats.ks_2samp(np.log(heights_scores_df['F485A,Y486A'].values), heights_scores_df['F485A_Y486A_Score'].values))"
   ]
  },
  {
   "cell_type": "code",
   "execution_count": null,
   "metadata": {
    "collapsed": true
   },
   "outputs": [],
   "source": [
    "plt.hist(np.log(heights_scores_df['F485A,Y486A'].values),color='red',density=True,alpha=0.5)\n",
    "plt.hist(heights_scores_df['F485A_Y486A_Score'].values,color='blue',density=True,alpha=0.5)\n",
    "plt.show()"
   ]
  },
  {
   "cell_type": "code",
   "execution_count": null,
   "metadata": {
    "collapsed": true
   },
   "outputs": [],
   "source": []
  }
 ],
 "metadata": {
  "kernelspec": {
   "display_name": "Python 3",
   "language": "python",
   "name": "python3"
  },
  "language_info": {
   "codemirror_mode": {
    "name": "ipython",
    "version": 3
   },
   "file_extension": ".py",
   "mimetype": "text/x-python",
   "name": "python",
   "nbconvert_exporter": "python",
   "pygments_lexer": "ipython3",
   "version": "3.6.7"
  }
 },
 "nbformat": 4,
 "nbformat_minor": 2
}
